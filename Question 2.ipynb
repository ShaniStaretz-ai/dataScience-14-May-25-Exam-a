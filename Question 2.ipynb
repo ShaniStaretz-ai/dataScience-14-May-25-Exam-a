{
 "cells": [
  {
   "cell_type": "code",
   "execution_count": 5,
   "id": "15159258-45d5-49c4-97c3-436cea9aec97",
   "metadata": {},
   "outputs": [],
   "source": [
    "import numpy as np\n",
    "import pandas as pd\n",
    "from IPython.display import display\n",
    "customers_df=pd.read_csv('customers.csv')\n",
    "Items_df=pd.read_csv('Items.csv')\n",
    "orders_df=pd.read_csv('orders.csv')\n",
    "order_item_df=pd.read_csv('customers.csv')"
   ]
  },
  {
   "cell_type": "code",
   "execution_count": 17,
   "id": "2c1c1769-5f3c-4a7f-bb27-f7e9f89f727e",
   "metadata": {},
   "outputs": [
    {
     "data": {
      "text/plain": [
       "'average price:'"
      ]
     },
     "metadata": {},
     "output_type": "display_data"
    },
    {
     "data": {
      "text/plain": [
       "2222.0825999999997"
      ]
     },
     "metadata": {},
     "output_type": "display_data"
    }
   ],
   "source": [
    "#1. What is the average price of an item?\n",
    "display(\"average price:\",Items_df['item_price'].mean())"
   ]
  },
  {
   "cell_type": "code",
   "execution_count": 93,
   "id": "1b1b48af-94ff-4df2-93c4-b6d96fe6d81b",
   "metadata": {},
   "outputs": [
    {
     "data": {
      "text/plain": [
       "'the customer with most items is:'"
      ]
     },
     "metadata": {},
     "output_type": "display_data"
    },
    {
     "data": {
      "text/html": [
       "<div>\n",
       "<style scoped>\n",
       "    .dataframe tbody tr th:only-of-type {\n",
       "        vertical-align: middle;\n",
       "    }\n",
       "\n",
       "    .dataframe tbody tr th {\n",
       "        vertical-align: top;\n",
       "    }\n",
       "\n",
       "    .dataframe thead th {\n",
       "        text-align: right;\n",
       "    }\n",
       "</style>\n",
       "<table border=\"1\" class=\"dataframe\">\n",
       "  <thead>\n",
       "    <tr style=\"text-align: right;\">\n",
       "      <th></th>\n",
       "      <th>id</th>\n",
       "      <th>first_name</th>\n",
       "      <th>last_name</th>\n",
       "      <th>gender</th>\n",
       "      <th>age</th>\n",
       "      <th>nationallity</th>\n",
       "      <th>joining_date</th>\n",
       "      <th>phone_number</th>\n",
       "      <th>email</th>\n",
       "    </tr>\n",
       "  </thead>\n",
       "  <tbody>\n",
       "    <tr>\n",
       "      <th>137</th>\n",
       "      <td>138</td>\n",
       "      <td>Ellary</td>\n",
       "      <td>Ledner</td>\n",
       "      <td>NaN</td>\n",
       "      <td>63.0</td>\n",
       "      <td>Peru</td>\n",
       "      <td>NaN</td>\n",
       "      <td>343-500-4046</td>\n",
       "      <td>eledner3t@latimes.com</td>\n",
       "    </tr>\n",
       "  </tbody>\n",
       "</table>\n",
       "</div>"
      ],
      "text/plain": [
       "      id first_name last_name gender   age nationallity joining_date  \\\n",
       "137  138     Ellary    Ledner    NaN  63.0         Peru          NaN   \n",
       "\n",
       "     phone_number                  email  \n",
       "137  343-500-4046  eledner3t@latimes.com  "
      ]
     },
     "metadata": {},
     "output_type": "display_data"
    }
   ],
   "source": [
    "#2.\n",
    "merded_orders_Items_order=orders_df.merge(order_item_df,'inner')\n",
    "groups_sum=merded_orders_Items_order.groupby('customer_id')['quantity'].sum().sort_values(ascending=False)\n",
    "\n",
    "max_customer_id = groups_sum.index[0]\n",
    "max_customer=customers_df[customers_df['id']==max_customer_id]\n",
    "display(\"the customer with most items is:\",max_customer)"
   ]
  }
 ],
 "metadata": {
  "kernelspec": {
   "display_name": "Python [conda env:base] *",
   "language": "python",
   "name": "conda-base-py"
  },
  "language_info": {
   "codemirror_mode": {
    "name": "ipython",
    "version": 3
   },
   "file_extension": ".py",
   "mimetype": "text/x-python",
   "name": "python",
   "nbconvert_exporter": "python",
   "pygments_lexer": "ipython3",
   "version": "3.12.7"
  }
 },
 "nbformat": 4,
 "nbformat_minor": 5
}
